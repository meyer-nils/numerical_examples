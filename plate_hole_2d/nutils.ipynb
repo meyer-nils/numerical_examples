{
 "cells": [
  {
   "attachments": {},
   "cell_type": "markdown",
   "metadata": {},
   "source": [
    "# Simple FEM for an elastic plate with a hole\n",
    "Should be replaced by an IGA variant"
   ]
  },
  {
   "attachments": {},
   "cell_type": "markdown",
   "metadata": {},
   "source": [
    "## Create a mesh for the plate with hole"
   ]
  },
  {
   "cell_type": "code",
   "execution_count": 12,
   "metadata": {},
   "outputs": [],
   "source": [
    "import numpy\n",
    "import treelog\n",
    "\n",
    "from nutils import export, function, mesh, solver, testing\n",
    "from nutils.expression_v2 import Namespace\n",
    "\n",
    "from global_constants import EPS0, LBD, MU, B0, X0, Y0, L, R\n",
    "\n",
    "# Element size\n",
    "N = 30\n",
    "s = L / N\n",
    "etype = \"square\"\n",
    "btype = \"std\"\n",
    "degree = 2\n",
    "poisson = LBD / (2*(LBD + MU))\n",
    "traction = 0.1\n",
    "\n",
    "# Build geometry\n",
    "domain0, geom = mesh.unitsquare(N, etype)\n",
    "domain = domain0.trim(function.norm2(geom) - R, maxrefine=2)"
   ]
  },
  {
   "attachments": {},
   "cell_type": "markdown",
   "metadata": {},
   "source": [
    "## ..."
   ]
  },
  {
   "cell_type": "code",
   "execution_count": 13,
   "metadata": {},
   "outputs": [],
   "source": [
    "ns = Namespace()\n",
    "ns.δ = function.eye(domain.ndims)\n",
    "ns.x = geom\n",
    "ns.define_for(\"x\", gradient=\"∇\", normal=\"n\", jacobians=(\"dV\", \"dS\"))\n",
    "ns.lmbda = LBD\n",
    "ns.mu = MU\n",
    "ns.ubasis = domain.basis(btype, degree=degree).vector(2)\n",
    "ns.u = function.dotarg(\"lhs\", ns.ubasis)\n",
    "ns.X_i = \"x_i + u_i\"\n",
    "ns.strain_ij = \"(∇_j(u_i) + ∇_i(u_j)) / 2\"\n",
    "ns.stress_ij = \"lmbda strain_kk δ_ij + 2 mu strain_ij\"\n",
    "ns.r2 = \"x_k x_k\"\n",
    "ns.R2 = R**2 / ns.r2\n",
    "ns.k = (3 - poisson) / (1 + poisson)  # plane stress parameter\n",
    "ns.scale = traction * (1 + poisson) / 2\n",
    "ns.uexact_i = \"scale (x_i ((k + 1) (0.5 + R2) + (1 - R2) R2 (x_0^2 - 3 x_1^2) / r2) - 2 δ_i1 x_1 (1 + (k - 1 + R2) R2))\"\n",
    "ns.du_i = \"u_i - uexact_i\""
   ]
  },
  {
   "cell_type": "code",
   "execution_count": 14,
   "metadata": {},
   "outputs": [
    {
     "name": "stdout",
     "output_type": "stream",
     "text": [
      "optimize > constrained 94/7146 dofs\n",
      "optimize > optimum value 0.00e+00\n",
      "optimize > solve > solving 240 dof system to machine precision using arnoldi solver\n",
      "optimize > solve > solver returned with residual 1e-17\n",
      "optimize > constrained 334/7146 dofs\n",
      "optimize > optimum value 1.11e-15\n",
      "solve > solving 6812 dof system to machine precision using arnoldi solver\n",
      "solve > solver returned with residual 3e-15\n",
      "stressxx.png\n",
      "errors: L2=2.44e-03, H1=1.11e-02\n"
     ]
    }
   ],
   "source": [
    "sqr = domain.boundary[\"left,bottom\"].integral(\n",
    "    \"(u_i n_i)^2 dS\" @ ns, degree=degree * 2\n",
    ")\n",
    "cons = solver.optimize(\"lhs\", sqr, droptol=1e-15)\n",
    "sqr = domain.boundary[\"top,right\"].integral(\"du_k du_k dS\" @ ns, degree=20)\n",
    "cons = solver.optimize(\"lhs\", sqr, droptol=1e-15, constrain=cons)\n",
    "\n",
    "res = domain.integral(\"∇_j(ubasis_ni) stress_ij dV\" @ ns, degree=degree * 2)\n",
    "lhs = solver.solve_linear(\"lhs\", res, constrain=cons)\n",
    "\n",
    "bezier = domain.sample(\"bezier\", 5)\n",
    "X, stressxx = bezier.eval([\"X_i\", \"stress_00\"] @ ns, lhs=lhs)\n",
    "export.triplot(\"stressxx.png\", X, stressxx, tri=bezier.tri, hull=bezier.hull)\n",
    "\n",
    "err = (\n",
    "    domain.integral(\n",
    "        function.stack([\"du_k du_k dV\", \"∇_j(du_i) ∇_j(du_i) dV\"] @ ns),\n",
    "        degree=max(degree, 3) * 2,\n",
    "    ).eval(lhs=lhs)\n",
    "    ** 0.5\n",
    ")\n",
    "treelog.user(\"errors: L2={:.2e}, H1={:.2e}\".format(*err))"
   ]
  },
  {
   "cell_type": "markdown",
   "metadata": {},
   "source": [
    "## Postprocessing"
   ]
  },
  {
   "cell_type": "code",
   "execution_count": 15,
   "metadata": {},
   "outputs": [],
   "source": [
    "# Compute stress"
   ]
  }
 ],
 "metadata": {
  "kernelspec": {
   "display_name": "nutils",
   "language": "python",
   "name": "python3"
  },
  "language_info": {
   "codemirror_mode": {
    "name": "ipython",
    "version": 3
   },
   "file_extension": ".py",
   "mimetype": "text/x-python",
   "name": "python",
   "nbconvert_exporter": "python",
   "pygments_lexer": "ipython3",
   "version": "3.9.15"
  },
  "vscode": {
   "interpreter": {
    "hash": "74a653f0fdbd48206aa45778ff3f0e7ad466271629bd1644b78f5ff4b8b1e0b8"
   }
  }
 },
 "nbformat": 4,
 "nbformat_minor": 2
}
