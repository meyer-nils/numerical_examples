{
 "cells": [
  {
   "cell_type": "markdown",
   "metadata": {},
   "source": [
    "# Simple FEM for an elastic plate with a hole"
   ]
  },
  {
   "attachments": {},
   "cell_type": "markdown",
   "metadata": {},
   "source": [
    "## Create a mesh for the plate with hole\n",
    "\n",
    "First we need to build the geometry. The shape and mesh is generated with pygmsh, exported to a xdmf file and then imported for use with fenicsx. "
   ]
  },
  {
   "cell_type": "code",
   "execution_count": 79,
   "metadata": {},
   "outputs": [],
   "source": [
    "import numpy as np\n",
    "\n",
    "import pyvista\n",
    "import pygmsh\n",
    "import ufl\n",
    "from dolfinx import io, fem, mesh, plot\n",
    "from mpi4py import MPI\n",
    "from petsc4py import PETSc\n",
    "\n",
    "from global_constants import EPS0, LBD, MU, B0, L, R\n",
    "\n",
    "# Element size\n",
    "N = 20\n",
    "s = L / N\n",
    "\n",
    "# Build mesh\n",
    "with pygmsh.occ.Geometry() as geom:\n",
    "    geom.characteristic_length_max = s\n",
    "    rectangle = geom.add_rectangle([0.0, 0.0, 0.0], a=L, b=L)\n",
    "    hole = geom.add_disk([0, 0, 0.0], R)\n",
    "    geom.boolean_difference(rectangle, hole)\n",
    "    m = geom.generate_mesh()\n",
    "    # Reduce cells to triangles\n",
    "    m.cells = [cells for cells in m.cells if cells.type == \"triangle\"]\n",
    "    # Reduce points to 2D\n",
    "    m.points = m.points[:, :2]\n",
    "    m.write(\"mesh.xdmf\")\n",
    "\n",
    "\n",
    "with io.XDMFFile(MPI.COMM_WORLD, \"mesh.xdmf\", \"r\") as xdmf:\n",
    "    domain = xdmf.read_mesh(name=\"Grid\")\n",
    "\n",
    "# Boundary sets\n",
    "left_facets = mesh.locate_entities_boundary(\n",
    "    domain, dim=1, marker=lambda x: np.isclose(x[0], 0.0)\n",
    ")\n",
    "right_facets = mesh.locate_entities_boundary(\n",
    "    domain, dim=1, marker=lambda x: np.isclose(x[0], L)\n",
    ")\n",
    "bottom_facets = mesh.locate_entities_boundary(\n",
    "    domain, dim=1, marker=lambda x: np.isclose(x[1], 0.0)\n",
    ")\n"
   ]
  },
  {
   "attachments": {},
   "cell_type": "markdown",
   "metadata": {},
   "source": [
    "## Create the FEM function space "
   ]
  },
  {
   "cell_type": "code",
   "execution_count": 80,
   "metadata": {},
   "outputs": [],
   "source": [
    "V = fem.VectorFunctionSpace(domain, (\"Lagrange\", 1))\n"
   ]
  },
  {
   "attachments": {},
   "cell_type": "markdown",
   "metadata": {},
   "source": [
    "## Problem definition\n",
    "\n",
    "The weak form of the equation to be solved for the displacement field $\\mathbf{u}: \\reals^2 \\rightarrow \\reals^2$ is \n",
    "\n",
    "$$ \n",
    "    \\int_\\Omega \\sigma \\cdot \\nabla \\mathbf{v} dV - \\int_\\Omega \\mathbf{b} \\cdot \\mathbf{v} dV = 0\n",
    "$$\n",
    "with \n",
    "$$\n",
    "\\sigma = 2\\mu \\epsilon + \\lambda \\textrm{tr}(\\epsilon) \\mathbf{I}\n",
    "$$\n",
    "and\n",
    "$$ \n",
    "    \\varepsilon = \\frac{1}{2} \\left( \\nabla \\mathbf{u} + \\nabla \\mathbf{u}^\\top \\right).\n",
    "$$"
   ]
  },
  {
   "cell_type": "code",
   "execution_count": 81,
   "metadata": {},
   "outputs": [],
   "source": [
    "def eps(v):\n",
    "    return ufl.sym(ufl.grad(v))\n",
    "\n",
    "\n",
    "def sigma(v):\n",
    "    return 2.0 * MU * eps(v) + LBD * ufl.tr(eps(v)) * ufl.Identity(2)\n",
    "\n",
    "\n",
    "u = ufl.TrialFunction(V)\n",
    "v = ufl.TestFunction(V)\n",
    "b = fem.Constant(domain, PETSc.ScalarType((0, B0)))\n",
    "a = ufl.inner(sigma(u), eps(v)) * ufl.dx\n",
    "l = ufl.inner(b, v) * ufl.dx\n"
   ]
  },
  {
   "attachments": {},
   "cell_type": "markdown",
   "metadata": {},
   "source": [
    "## Boundary conditions\n",
    "\n",
    "Left: \n",
    "\n",
    "$$ u_1 = 0$$\n",
    "\n",
    "Bottom: \n",
    "\n",
    "$$ u_2 = 0$$\n",
    "\n",
    "Right: \n",
    "\n",
    "$$ u_1 = \\varepsilon_0 L\\\\  \n",
    "   u_2 =0\n",
    "$$"
   ]
  },
  {
   "cell_type": "code",
   "execution_count": 82,
   "metadata": {},
   "outputs": [],
   "source": [
    "# Get degrees of freedom (DOFs)\n",
    "left_dofs = fem.locate_dofs_topological(V.sub(0), 1, left_facets)\n",
    "right_dofs = fem.locate_dofs_topological(V, 1, right_facets)\n",
    "bottom_dofs = fem.locate_dofs_topological(V.sub(1), 1, bottom_facets)\n",
    "\n",
    "# Constrain DOFs\n",
    "bc_left = fem.dirichletbc(PETSc.ScalarType(0), dofs=left_dofs, V=V.sub(0))\n",
    "bc_right = fem.dirichletbc(\n",
    "    np.array((EPS0 * L, 0), dtype=PETSc.ScalarType), dofs=right_dofs, V=V\n",
    ")\n",
    "bc_bottom = fem.dirichletbc(PETSc.ScalarType(0), dofs=bottom_dofs, V=V.sub(1))\n"
   ]
  },
  {
   "cell_type": "markdown",
   "metadata": {},
   "source": [
    "## Assemble and solve"
   ]
  },
  {
   "cell_type": "code",
   "execution_count": 83,
   "metadata": {},
   "outputs": [],
   "source": [
    "problem = fem.petsc.LinearProblem(\n",
    "    a,\n",
    "    l,\n",
    "    bcs=[bc_left, bc_right, bc_bottom],\n",
    "    petsc_options={\"ksp_type\": \"preonly\", \"pc_type\": \"lu\"},\n",
    ")\n",
    "uh = problem.solve()\n"
   ]
  },
  {
   "cell_type": "markdown",
   "metadata": {},
   "source": [
    "## Postprocessing"
   ]
  },
  {
   "cell_type": "code",
   "execution_count": 110,
   "metadata": {},
   "outputs": [
    {
     "data": {
      "application/vnd.jupyter.widget-view+json": {
       "model_id": "e50ba7acd3da430cb6133b0886000ae4",
       "version_major": 2,
       "version_minor": 0
      },
      "text/plain": [
       "Widget(value=\"<iframe src='http://localhost:55051/index.html?ui=P_0x16b925660_10&reconnect=auto' style='width:…"
      ]
     },
     "metadata": {},
     "output_type": "display_data"
    }
   ],
   "source": [
    "# Set backend for plots\n",
    "pyvista.set_jupyter_backend(\"client\")\n",
    "p = pyvista.Plotter(shape=(1, 3))\n",
    "\n",
    "# Convert mesh to VTK for plotting with pyvista\n",
    "topology, cell_types, x = plot.create_vtk_mesh(V)\n",
    "grid = pyvista.UnstructuredGrid(topology, cell_types, x)\n",
    "\n",
    "# Displacement data ('u' is a 3D vector for warping the mesh)\n",
    "u = np.zeros((x.shape[0], 3))\n",
    "u[:, : len(uh)] = uh.x.array.reshape((x.shape[0], len(uh)))\n",
    "grid[\"u\"] = u\n",
    "grid[\"u_x\"] = u[:,0]\n",
    "grid[\"u_y\"] = u[:,1]\n",
    "\n",
    "# Stress data (evaluated at the interpoltion points, i.e. this is constant in each  \n",
    "# element for linear elements)\n",
    "T = fem.TensorFunctionSpace(domain,(\"DG\", 0))\n",
    "stress_expr = fem.Expression(sigma(uh), T.element.interpolation_points())\n",
    "stress = fem.Function(T)\n",
    "stress.interpolate(stress_expr)\n",
    "s = stress.x.array.reshape((len(cell_types), 4))\n",
    "grid[\"s\"] = s\n",
    "\n",
    "# Stress in x\n",
    "p.subplot(0, 0)\n",
    "p.add_mesh(grid.warp_by_vector(\"u\", factor=1.0), component=0, show_edges=True, scalars=\"s\")\n",
    "p.view_xy()\n",
    "\n",
    "# Displacement in x\n",
    "p.subplot(0, 1)\n",
    "p.add_mesh(grid.warp_by_vector(\"u\", factor=1.0), show_edges=True, scalars=\"u_x\", cmap=\"inferno\")\n",
    "p.view_xy()\n",
    "\n",
    "# Displacement in x\n",
    "p.subplot(0, 2)\n",
    "p.add_mesh(grid.warp_by_vector(\"u\", factor=1.0), show_edges=True, scalars=\"u_y\", cmap=\"inferno_r\")\n",
    "p.view_xy()\n",
    "\n",
    "# Show plot\n",
    "p.show()\n"
   ]
  }
 ],
 "metadata": {
  "kernelspec": {
   "display_name": "Python 3.10.6 ('base')",
   "language": "python",
   "name": "python3"
  },
  "language_info": {
   "codemirror_mode": {
    "name": "ipython",
    "version": 3
   },
   "file_extension": ".py",
   "mimetype": "text/x-python",
   "name": "python",
   "nbconvert_exporter": "python",
   "pygments_lexer": "ipython3",
   "version": "3.10.9"
  },
  "vscode": {
   "interpreter": {
    "hash": "53e816d343ac3b69abbe00d0113a5825a790940e53acda2e016fe2e76fc78702"
   }
  }
 },
 "nbformat": 4,
 "nbformat_minor": 2
}
